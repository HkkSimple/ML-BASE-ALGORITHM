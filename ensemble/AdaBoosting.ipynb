{
 "cells": [
  {
   "cell_type": "code",
   "execution_count": 371,
   "metadata": {
    "collapsed": false
   },
   "outputs": [],
   "source": [
    "%matplotlib inline\n",
    "import pandas as pd\n",
    "from pandas import DataFrame,Series\n",
    "import numpy as np\n",
    "from IPython.display import display\n",
    "import math\n",
    "\n",
    "from sklearn.model_selection import train_test_split\n",
    "from sklearn.tree import DecisionTreeClassifier\n",
    "from sklearn.metrics import zero_one_loss"
   ]
  },
  {
   "cell_type": "code",
   "execution_count": 372,
   "metadata": {
    "collapsed": false
   },
   "outputs": [
    {
     "name": "stdout",
     "output_type": "stream",
     "text": [
      "(17, 2)\n"
     ]
    }
   ],
   "source": [
    "data = pd.read_csv('../data/西瓜数据集3.0')\n",
    "X_data = data.ix[:,:-1]\n",
    "y_data = data.ix[:,-1]\n",
    "X_train,X_test,y_train,y_test = train_test_split(X_data, y_data, test_size=.25,random_state=0)\n",
    "print X_data.shape"
   ]
  },
  {
   "cell_type": "code",
   "execution_count": 373,
   "metadata": {
    "collapsed": true
   },
   "outputs": [],
   "source": [
    "#通过对象的方式保存数据\n",
    "class storeParam:\n",
    "    def __init__(self, estimator,weight, error,distribution, result_predict):\n",
    "        self.estimator = estimator\n",
    "        self.weight = weight\n",
    "        self.error = error\n",
    "        self.distribution = distribution\n",
    "        self.result_predict = result_predict"
   ]
  },
  {
   "cell_type": "code",
   "execution_count": 374,
   "metadata": {
    "collapsed": false
   },
   "outputs": [],
   "source": [
    "def calcClassifierWeight(error):\n",
    "    accuracy_error = (1 - error) / error\n",
    "    return 0.5*math.log(accuracy_error)\n",
    "#calcClassifierWeight()"
   ]
  },
  {
   "cell_type": "code",
   "execution_count": 375,
   "metadata": {
    "collapsed": false
   },
   "outputs": [],
   "source": [
    "def DecisionTree():\n",
    "    #暂且先用sklearn中的决策树,作为一个树墩\n",
    "    dt_stump = DecisionTreeClassifier(max_depth=1, min_samples_leaf=1)\n",
    "    return dt_stump"
   ]
  },
  {
   "cell_type": "code",
   "execution_count": 376,
   "metadata": {
    "collapsed": true
   },
   "outputs": [],
   "source": [
    "def updateParam(param, X_train, y_train):\n",
    "    #训练当前基分类器，并且存储\n",
    "    estimator = DecisionTree()\n",
    "    estimator.fit(X_train,y_train)\n",
    "    param.estimator.append(estimator)\n",
    "    #存储当前的错误率\n",
    "    param.error = 1 - estimator.score(X_train, y_train)\n",
    "    #存储当前分类器的权重\n",
    "    param.weight.append(calcClassifierWeight(param.error))\n",
    "    #如果预测结果相等，则赋为-1\n",
    "    param.result_predict[estimator.predict(X_train) == y_train] = -1\n",
    "    #根据样本的预测结果，更新数据分布\n",
    "    distribution = param.distribution\n",
    "    weight = param.weight[-1]\n",
    "    param.distribution = np.multiply(distribution,np.exp(param.result_predict*weight)) / distribution.sum()\n",
    "    param.result_predict = np.ones((X_train.shape[0],1))\n",
    "    \n",
    "    return param"
   ]
  },
  {
   "cell_type": "code",
   "execution_count": 377,
   "metadata": {
    "collapsed": false
   },
   "outputs": [],
   "source": [
    "def adaBoosting(X_train,y_train,n_estimators):\n",
    "    m = X_train.shape[0]\n",
    "    #初始化一个存储当前样本是否分类正确的容器\n",
    "    result_predict = np.ones((m,1))\n",
    "    #初始数据分布\n",
    "    D_i = np.ones((m,1)) / m\n",
    "    #初始化存储对象\n",
    "    param = storeParam([],[],[],D_i,result_predict)\n",
    "    #构造的基学习器的规模\n",
    "    for i in range(n_estimators):\n",
    "        #跟新数据分布\n",
    "        X_train = np.multiply(X_train, param.distribution)\n",
    "        param = updateParam(param, X_train, y_train)\n",
    "    return param\n",
    "p = adaBoosting(X_train,y_train,n_estimators = 10)"
   ]
  },
  {
   "cell_type": "code",
   "execution_count": 378,
   "metadata": {
    "collapsed": false
   },
   "outputs": [
    {
     "data": {
      "text/plain": [
       "0.59999999999999998"
      ]
     },
     "execution_count": 378,
     "metadata": {},
     "output_type": "execute_result"
    }
   ],
   "source": [
    "def predict(param,X_test,y_test):\n",
    "    estimators = param.estimator\n",
    "    weights = param.weight\n",
    "    ensemble_result = []\n",
    "    for estimator,weight in zip(estimators,weights):\n",
    "        ensemble_result.append(estimator.predict(X_test)*weight)\n",
    "    #最终加权之后的集成结果\n",
    "    ensemble_result = list(DataFrame(ensemble_result).sum())\n",
    "    #通过sign计算样本类别\n",
    "    classifier_result = np.sign(ensemble_result)\n",
    "    #计算分类准确率\n",
    "    accuracy = zero_one_loss(classifier_result,y_test)\n",
    "    return accuracy\n",
    "predict(p,X_test,y_test)"
   ]
  },
  {
   "cell_type": "code",
   "execution_count": null,
   "metadata": {
    "collapsed": true
   },
   "outputs": [],
   "source": []
  },
  {
   "cell_type": "code",
   "execution_count": null,
   "metadata": {
    "collapsed": false
   },
   "outputs": [],
   "source": [
    "\n"
   ]
  }
 ],
 "metadata": {
  "anaconda-cloud": {},
  "kernelspec": {
   "display_name": "Python [conda root]",
   "language": "python",
   "name": "conda-root-py"
  },
  "language_info": {
   "codemirror_mode": {
    "name": "ipython",
    "version": 2
   },
   "file_extension": ".py",
   "mimetype": "text/x-python",
   "name": "python",
   "nbconvert_exporter": "python",
   "pygments_lexer": "ipython2",
   "version": "2.7.12"
  }
 },
 "nbformat": 4,
 "nbformat_minor": 1
}
