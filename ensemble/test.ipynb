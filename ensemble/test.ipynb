{
 "cells": [
  {
   "cell_type": "code",
   "execution_count": 8,
   "metadata": {
    "collapsed": false
   },
   "outputs": [],
   "source": [
    "from sklearn.tree import DecisionTreeClassifier\n",
    "from sklearn.model_selection import train_test_split\n",
    "import pandas as pd"
   ]
  },
  {
   "cell_type": "code",
   "execution_count": 9,
   "metadata": {
    "collapsed": false
   },
   "outputs": [],
   "source": [
    "data = pd.read_csv('../data/西瓜数据集3.0')\n",
    "X_data = data.ix[:,:-1]\n",
    "y_data = data.ix[:,-1]\n",
    "X_train,X_test,y_train,y_test = train_test_split(X_data, y_data, test_size=.25,random_state=0)"
   ]
  },
  {
   "cell_type": "code",
   "execution_count": 16,
   "metadata": {
    "collapsed": false
   },
   "outputs": [
    {
     "name": "stdout",
     "output_type": "stream",
     "text": [
      "[ 1 -1 -1  1  1]\n",
      "**\n",
      "[1, 1, -1, -1, -1]\n",
      "[ 1 -1 -1  1  1]\n",
      "**\n",
      "[1, 1, -1, -1, -1]\n",
      "[ 1 -1 -1  1  1]\n",
      "**\n",
      "[1, 1, -1, -1, -1]\n",
      "[ 1 -1 -1  1  1]\n",
      "**\n",
      "[1, 1, -1, -1, -1]\n",
      "[ 1 -1 -1  1  1]\n",
      "**\n",
      "[1, 1, -1, -1, -1]\n",
      "[ 1 -1 -1  1  1]\n",
      "**\n",
      "[1, 1, -1, -1, -1]\n",
      "[ 1 -1 -1  1  1]\n",
      "**\n",
      "[1, 1, -1, -1, -1]\n",
      "[ 1 -1 -1  1  1]\n",
      "**\n",
      "[1, 1, -1, -1, -1]\n",
      "[ 1 -1 -1  1  1]\n",
      "**\n",
      "[1, 1, -1, -1, -1]\n",
      "[ 1 -1 -1  1  1]\n",
      "**\n",
      "[1, 1, -1, -1, -1]\n"
     ]
    }
   ],
   "source": [
    "for i in range(10):\n",
    "    dt = DecisionTreeClassifier(max_depth=1, min_samples_leaf=1)\n",
    "    dt.fit(X_train,y_train)\n",
    "    print dt.predict(X_test)\n",
    "    print '**'\n",
    "    print list(y_test)"
   ]
  }
 ],
 "metadata": {
  "anaconda-cloud": {},
  "kernelspec": {
   "display_name": "Python [conda root]",
   "language": "python",
   "name": "conda-root-py"
  },
  "language_info": {
   "codemirror_mode": {
    "name": "ipython",
    "version": 2
   },
   "file_extension": ".py",
   "mimetype": "text/x-python",
   "name": "python",
   "nbconvert_exporter": "python",
   "pygments_lexer": "ipython2",
   "version": "2.7.12"
  }
 },
 "nbformat": 4,
 "nbformat_minor": 1
}
