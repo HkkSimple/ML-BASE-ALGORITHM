{
 "cells": [
  {
   "cell_type": "code",
   "execution_count": 242,
   "metadata": {
    "collapsed": true
   },
   "outputs": [],
   "source": [
    "%matplotlib inline\n",
    "import numpy as np\n",
    "import pandas as pd\n",
    "from pandas import DataFrame,Series\n",
    "\n",
    "from matplotlib import pyplot as plt\n",
    "from IPython.display import display\n",
    "import random\n",
    "from copy import copy"
   ]
  },
  {
   "cell_type": "code",
   "execution_count": 243,
   "metadata": {
    "collapsed": false
   },
   "outputs": [
    {
     "data": {
      "text/html": [
       "<div>\n",
       "<table border=\"1\" class=\"dataframe\">\n",
       "  <thead>\n",
       "    <tr style=\"text-align: right;\">\n",
       "      <th></th>\n",
       "      <th>Dimension 1</th>\n",
       "      <th>Dimension 2</th>\n",
       "      <th>class</th>\n",
       "    </tr>\n",
       "  </thead>\n",
       "  <tbody>\n",
       "    <tr>\n",
       "      <th>0</th>\n",
       "      <td>1.779322</td>\n",
       "      <td>-0.660449</td>\n",
       "      <td>1</td>\n",
       "    </tr>\n",
       "    <tr>\n",
       "      <th>1</th>\n",
       "      <td>1.882034</td>\n",
       "      <td>0.461741</td>\n",
       "      <td>1</td>\n",
       "    </tr>\n",
       "    <tr>\n",
       "      <th>2</th>\n",
       "      <td>1.993507</td>\n",
       "      <td>1.247080</td>\n",
       "      <td>1</td>\n",
       "    </tr>\n",
       "    <tr>\n",
       "      <th>3</th>\n",
       "      <td>-0.998581</td>\n",
       "      <td>1.369364</td>\n",
       "      <td>0</td>\n",
       "    </tr>\n",
       "    <tr>\n",
       "      <th>4</th>\n",
       "      <td>0.993847</td>\n",
       "      <td>2.078314</td>\n",
       "      <td>0</td>\n",
       "    </tr>\n",
       "  </tbody>\n",
       "</table>\n",
       "</div>"
      ],
      "text/plain": [
       "   Dimension 1  Dimension 2  class\n",
       "0     1.779322    -0.660449      1\n",
       "1     1.882034     0.461741      1\n",
       "2     1.993507     1.247080      1\n",
       "3    -0.998581     1.369364      0\n",
       "4     0.993847     2.078314      0"
      ]
     },
     "metadata": {},
     "output_type": "display_data"
    },
    {
     "data": {
      "text/plain": [
       "<matplotlib.collections.PathCollection at 0x7fd769ffcc50>"
      ]
     },
     "execution_count": 243,
     "metadata": {},
     "output_type": "execute_result"
    },
    {
     "data": {
      "image/png": "[encoded data removed]",
      "text/plain": [
       "<matplotlib.figure.Figure at 0x7fd76a06b090>"
      ]
     },
     "metadata": {},
     "output_type": "display_data"
    }
   ],
   "source": [
    "'''原始的两类有标签数据，将这两类数据用k-means聚类，看看最后效果'''\n",
    "data = pd.read_csv('../data/testdata')\n",
    "cluster_0 = data[data['class'] == 0].ix[:,:-1]\n",
    "cluster_1 = data[data['class'] == 1].ix[:,:-1]\n",
    "display(data.head())\n",
    "\n",
    "\n",
    "plot = plt.figure()\n",
    "ax = plot.add_subplot(111)\n",
    "ax.scatter(cluster_0.ix[:,0],cluster_0.ix[:,1],c='red',marker='s')\n",
    "ax.scatter(cluster_1.ix[:,0],cluster_1.ix[:,1],c='green')"
   ]
  },
  {
   "cell_type": "code",
   "execution_count": 244,
   "metadata": {
    "collapsed": false
   },
   "outputs": [
    {
     "data": {
      "text/plain": [
       "(398, 2)"
      ]
     },
     "execution_count": 244,
     "metadata": {},
     "output_type": "execute_result"
    }
   ],
   "source": [
    "#用来进行聚类的数据\n",
    "data = data.ix[:,:-1].as_matrix()\n",
    "data.shape"
   ]
  },
  {
   "cell_type": "code",
   "execution_count": 245,
   "metadata": {
    "collapsed": false
   },
   "outputs": [],
   "source": [
    "#初始化簇中心，随机选择指定个簇中心\n",
    "def initCenter(data, cluster_num):\n",
    "    #样本个数\n",
    "    sample_num = data.shape[0]\n",
    "    number = range(sample_num)    \n",
    "    index = [random.choice(number) for _ in range(cluster_num)]\n",
    "    return data[index,:]\n",
    "\n",
    "#centers = initCenter(data,5)"
   ]
  },
  {
   "cell_type": "code",
   "execution_count": 246,
   "metadata": {
    "collapsed": false
   },
   "outputs": [],
   "source": [
    "#计算所有样本与与簇中心的距离，返回内容是：一行代表所有样本与其中一个簇中心的距离\n",
    "def calcDistance(data, centers):    \n",
    "    diffs = []\n",
    "    #所有样本与簇中心的差    \n",
    "    diff_func = lambda c: diffs.append(data - c)\n",
    "    #将所有样本与所有簇中心的差保存在diffs中\n",
    "    map(diff_func, centers) \n",
    "    #保存所有样本与所有簇中心的距离\n",
    "    allsample_distances = []\n",
    "    for diff in diffs:        \n",
    "    #将所有样本与单个簇中心的距离平方保存在distances中\n",
    "        distances = []       \n",
    "        map(lambda d: distances.append(np.dot(d, d.T)), diff) \n",
    "        allsample_distances.append(distances)\n",
    "    allsample_distances = np.array(allsample_distances)\n",
    "    return allsample_distances\n",
    "\n",
    "#获得所有样本离哪个簇中心最近\n",
    "def getSampleFlag(data,centers):\n",
    "    flag = []\n",
    "    distance = calcDistance(data, centers)\n",
    "    df_distance = DataFrame(distance)\n",
    "    min_distance = df_distance.min()\n",
    "    #选出每一列最小值的索引，（后期希望能找到优化方法）\n",
    "    for i,d in enumerate(df_distance):\n",
    "        flag.extend(list(df_distance[i][df_distance[i] == min_distance[i]].index))\n",
    "    return np.array(flag)\n",
    "#calcDistance(data, centers)    \n",
    "#getSampleFlag(data,centers)"
   ]
  },
  {
   "cell_type": "code",
   "execution_count": 247,
   "metadata": {
    "collapsed": false
   },
   "outputs": [],
   "source": [
    "#初始化指定簇字典\n",
    "def initCluster(cluster_num):\n",
    "    return {}.fromkeys(range(cluster_num),-1)\n",
    "#initCluster(5)\n",
    "\n",
    "#将样本索引归入相应的簇字典中\n",
    "def mergeClusterSample(flag,cluster_num):\n",
    "    dict_cluster = initCluster(cluster_num)\n",
    "    flag = Series(flag)\n",
    "    for i in flag.unique():\n",
    "        dict_cluster[i] = list(flag[flag == i].index)\n",
    "    return dict_cluster\n",
    "\n",
    "# flag = getSampleFlag(data,centers)        \n",
    "# dict_cluster = initCluster(5)\n",
    "# dict_cluster = mergeClusterSample(flag,dict_cluster)        "
   ]
  },
  {
   "cell_type": "code",
   "execution_count": 248,
   "metadata": {
    "collapsed": false
   },
   "outputs": [],
   "source": [
    "#计算新簇中每一个簇的中心\n",
    "def calcClusterCenter(data, cluster):\n",
    "    centers = []\n",
    "    for key, value in cluster.items():\n",
    "        centers.append(data[value,:].mean(axis=0))\n",
    "    return centers\n",
    "\n",
    "#calcClusterCenter(data, dict_cluster)"
   ]
  },
  {
   "cell_type": "code",
   "execution_count": 258,
   "metadata": {
    "collapsed": false
   },
   "outputs": [
    {
     "name": "stdout",
     "output_type": "stream",
     "text": [
      "8\n"
     ]
    }
   ],
   "source": [
    "#整个k-means的整合,返回一个字典{簇标记：样本在data中的索引号} 和 簇中心\n",
    "def kmeans(repeat_num, data, cluster_num):   \n",
    "    #记录循环了几次之后收敛\n",
    "    t = 0\n",
    "    #初始化簇中心\n",
    "    centers = initCenter(data, cluster_num)\n",
    "    for i in range(repeat_num):   \n",
    "        #获得所有样本离哪个簇中心最近\n",
    "        flag = getSampleFlag(data,centers)\n",
    "        #将样本在数据集中的索引归入相应的簇字典中\n",
    "        dict_cluster = mergeClusterSample(flag,cluster_num) \n",
    "        #计算新簇中每一个簇的中心\n",
    "        new_centers = calcClusterCenter(data, dict_cluster)\n",
    "        t += 1\n",
    "        #如果簇中心变化很小，则认为收敛了，退出算法\n",
    "        if  (np.array(new_centers).round(3) == np.array(centers).round(3)).all():\n",
    "            print t\n",
    "            break        \n",
    "        centers = new_centers\n",
    "        \n",
    "    return dict_cluster,centers\n",
    "\n",
    "dict_cluster,centers = kmeans(100, data, 2)"
   ]
  },
  {
   "cell_type": "code",
   "execution_count": 259,
   "metadata": {
    "collapsed": false
   },
   "outputs": [
    {
     "data": {
      "text/plain": [
       "<matplotlib.collections.PathCollection at 0x7fd769c2ab90>"
      ]
     },
     "execution_count": 259,
     "metadata": {},
     "output_type": "execute_result"
    },
    {
     "data": {
      "image/png": "[encoded data removed]",
      "text/plain": [
       "<matplotlib.figure.Figure at 0x7fd769f16a50>"
      ]
     },
     "metadata": {},
     "output_type": "display_data"
    }
   ],
   "source": [
    "#对聚类结果进行了测试，效果还可以\n",
    "test_centers = []\n",
    "centers = np.array(centers)\n",
    "for k,v in dict_cluster.items():\n",
    "    test_centers.append(data[v,:])\n",
    "    \n",
    "plot = plt.figure()\n",
    "ax = plot.add_subplot(111)\n",
    "ax.scatter(test_centers[0][:,0],test_centers[0][:,1],c='black',marker='s')\n",
    "ax.scatter(test_centers[1][:,0],test_centers[1][:,1],c='green')\n",
    "ax.scatter(centers[:,0],centers[:,1],c='red')"
   ]
  }
 ],
 "metadata": {
  "anaconda-cloud": {},
  "kernelspec": {
   "display_name": "Python [conda root]",
   "language": "python",
   "name": "conda-root-py"
  },
  "language_info": {
   "codemirror_mode": {
    "name": "ipython",
    "version": 2
   },
   "file_extension": ".py",
   "mimetype": "text/x-python",
   "name": "python",
   "nbconvert_exporter": "python",
   "pygments_lexer": "ipython2",
   "version": "2.7.12"
  }
 },
 "nbformat": 4,
 "nbformat_minor": 1
}
