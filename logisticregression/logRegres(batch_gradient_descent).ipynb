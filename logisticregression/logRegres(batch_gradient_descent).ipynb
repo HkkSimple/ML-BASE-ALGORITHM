{
 "cells": [
  {
   "cell_type": "code",
   "execution_count": 1,
   "metadata": {
    "collapsed": true
   },
   "outputs": [],
   "source": [
    "%matplotlib inline\n",
    "import numpy as np\n",
    "from pandas import DataFrame,Series\n",
    "import pandas as pd\n",
    "from matplotlib import pyplot as plt"
   ]
  },
  {
   "cell_type": "code",
   "execution_count": 16,
   "metadata": {
    "collapsed": true
   },
   "outputs": [],
   "source": [
    "def first_derivative(X,y,beta):\n",
    "    X_row = X.shape[0]\n",
    "    X_col = X.shape[1]\n",
    "    if X_row != len(y) or X_col != len(beta):\n",
    "        return 'X 与 y 或 X 与 beta 的维度不统一'\n",
    "    else:\n",
    "        Z = np.dot(X,beta)\n",
    "        sigmoid = 1.0/(1 + np.exp(-Z))                    \n",
    "        f_derivative = -np.dot(X.T,(y-sigmoid))        \n",
    "        return f_derivative"
   ]
  },
  {
   "cell_type": "code",
   "execution_count": 42,
   "metadata": {
    "collapsed": true
   },
   "outputs": [],
   "source": [
    "def gradientDescent(X,y,beta,alpha):\n",
    "    #生成新的训练集[X,1]\n",
    "    row = X.shape[0]\n",
    "    col = X.shape[1] \n",
    "    max_cycles = 100\n",
    "    flag = 1\n",
    "    data_matrix_X = np.concatenate((X,np.ones((row,1))),axis=1)\n",
    "    for i in range(max_cycles):\n",
    "        f_derivative = first_derivative(data_matrix_X,y,beta)           \n",
    "        beta = beta-1.0*alpha*f_derivative \n",
    "        if i/10 == flag:\n",
    "            print '斜率：{:.4f} 与 截距：{:.4f}'.format(beta[0,0]/(-beta[1,0]),beta[2,0]/(-beta[1,0]))\n",
    "            flag+=1\n",
    "    return beta"
   ]
  },
  {
   "cell_type": "code",
   "execution_count": 47,
   "metadata": {
    "collapsed": true
   },
   "outputs": [],
   "source": [
    "def plotBestFit(X,y,beta):\n",
    "    xcord0 = []\n",
    "    ycord0 = []\n",
    "    xcord1 = []\n",
    "    ycord1 = []\n",
    "    for i in range(len(y)):\n",
    "        if y[i] == 0:\n",
    "            xcord0.append(X[i,0])\n",
    "            ycord0.append(X[i,1])\n",
    "        else:\n",
    "            xcord1.append(X[i,0])\n",
    "            ycord1.append(X[i,1])\n",
    "    fig = plt.figure()\n",
    "    ax = fig.add_subplot(111)\n",
    "    ax.scatter(xcord0,ycord0,s=30,c='red',marker='s')\n",
    "    ax.scatter(xcord1,ycord1,s=30,c='green')\n",
    "    best_line_x = np.array(np.arange(-3,3,.1))\n",
    "    best_line_y = 1.0*(beta[0,0]*best_line_x+beta[2,0])/(-beta[1,0])\n",
    "    ax.plot(best_line_x,best_line_y)\n",
    "    plt.xlabel(('X1'))\n",
    "    plt.ylabel(('X2'))\n",
    "    plt.show()"
   ]
  },
  {
   "cell_type": "markdown",
   "metadata": {},
   "source": [
    "# 简介：\n",
    "\n",
    "## 该算法是用“批量梯度下降“求的最优值：\n",
    "\n",
    "- “批量梯度下降算法”每次在迭代更新回归系数时，需要用整个数据集，在数据量非常大时，运算量会非常大\n",
    "\n",
    "## 对于alpha值的选取\n",
    "\n",
    "- 这里的alpha值是自己随意选定，并且在运算过程中是固定不变的，但alpha的选取有时候决定了拟合线的好坏，需要进一步去通过特定的方法，针对不同数据集去确定alpha"
   ]
  },
  {
   "cell_type": "code",
   "execution_count": 48,
   "metadata": {
    "collapsed": false
   },
   "outputs": [
    {
     "name": "stdout",
     "output_type": "stream",
     "text": [
      "斜率：3.7833 与 截距：-2.5004\n",
      "斜率：3.7932 与 截距：-2.5186\n",
      "斜率：3.7919 与 截距：-2.5184\n",
      "斜率：3.7905 与 截距：-2.5181\n",
      "斜率：3.7892 与 截距：-2.5178\n",
      "斜率：3.7879 与 截距：-2.5175\n",
      "斜率：3.7867 与 截距：-2.5172\n",
      "斜率：3.7855 与 截距：-2.5169\n",
      "斜率：3.7843 与 截距：-2.5167\n"
     ]
    },
    {
     "data": {
      "image/png": "[encoded data removed]",
      "text/plain": [
       "<matplotlib.figure.Figure at 0x7f94882dcfd0>"
      ]
     },
     "metadata": {},
     "output_type": "display_data"
    }
   ],
   "source": [
    "points = pd.read_csv('../data/testdata')\n",
    "X = (points.ix[:,[0,1]]).as_matrix()\n",
    "y = points.ix[:,[2]].as_matrix()\n",
    "X_col = X.shape[1]\n",
    "beta = np.mat(np.ones((X_col+1,1)))\n",
    "alpha = .1\n",
    "beta = gradientDescent(X,y,beta,alpha)\n",
    "plotBestFit(X,y,beta)"
   ]
  }
 ],
 "metadata": {
  "anaconda-cloud": {},
  "kernelspec": {
   "display_name": "Python [conda root]",
   "language": "python",
   "name": "conda-root-py"
  },
  "language_info": {
   "codemirror_mode": {
    "name": "ipython",
    "version": 2
   },
   "file_extension": ".py",
   "mimetype": "text/x-python",
   "name": "python",
   "nbconvert_exporter": "python",
   "pygments_lexer": "ipython2",
   "version": "2.7.12"
  }
 },
 "nbformat": 4,
 "nbformat_minor": 1
}
