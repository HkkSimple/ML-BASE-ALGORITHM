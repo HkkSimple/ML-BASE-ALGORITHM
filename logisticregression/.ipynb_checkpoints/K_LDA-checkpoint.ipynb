{
 "cells": [
  {
   "cell_type": "code",
   "execution_count": 225,
   "metadata": {
    "collapsed": true
   },
   "outputs": [],
   "source": [
    "%matplotlib inline\n",
    "import numpy as np\n",
    "import pandas as pd\n",
    "from pandas import DataFrame\n",
    "import matplotlib.pyplot as plt"
   ]
  },
  {
   "cell_type": "code",
   "execution_count": 226,
   "metadata": {
    "collapsed": false
   },
   "outputs": [],
   "source": [
    "'''1、生成一个长度为m的列向量矩阵（m为两类两本的总个数）\n",
    "   2、这一整个向量中，例如，属于class1的，那该值就为1，不属于就为0\n",
    "   3、返回一个指示向量'''\n",
    "def createDirectionVector(class_1_len,class_2_len):\n",
    "    v1_ones = np.ones((class_1_len))\n",
    "    v1_zeros = np.zeros((class_1_len))\n",
    "    v2_ones = np.ones((class_2_len))\n",
    "    v2_zeros = np.zeros((class_2_len))\n",
    "    dv_1 = np.concatenate((v1_ones,v2_zeros), axis=0)\n",
    "    dv_2 = np.concatenate((v1_zeros,v2_ones), axis=0)\n",
    "    return np.mat(dv_1).T,np.mat(dv_2).T\n",
    "#createDirectionVector(class_1.shape[0],class_2.shape[0])"
   ]
  },
  {
   "cell_type": "code",
   "execution_count": 227,
   "metadata": {
    "collapsed": false
   },
   "outputs": [],
   "source": [
    "'''1、核函数的选择'''\n",
    "def selectKernelFunction(kernel):\n",
    "    if kernel == 0:\n",
    "        #线性核\n",
    "        linear = lambda x_i,x_j,x: np.dot(x_i, x_j.T)\n",
    "        return linear\n",
    "    if kernel == 1:\n",
    "        #高斯核\n",
    "        rbf = lambda x_i,x_j,gamma: np.exp(-np.dot((x_i-x_j),(x_i-x_j).T) / (2*gamma*gamma))\n",
    "        return rbf\n",
    "    if kernel == 2:\n",
    "        #拉普拉斯核\n",
    "        lp = lambda x_i,x_j,gamma:np.exp(-(np.dot((x_i-x_j),(x_i-x_j).T))**.5 / gamma)\n",
    "        return lp"
   ]
  },
  {
   "cell_type": "code",
   "execution_count": 228,
   "metadata": {
    "collapsed": false
   },
   "outputs": [],
   "source": [
    "'''1、计算核函数的核矩阵\n",
    "   2、选择相应的核函数\n",
    "   3、输入两个类的样本矩阵\n",
    "   4、gamma高斯核的带宽,暂时默认为1/n_feature'''\n",
    "def calcuKernelMatrix(kernel, class_1, class_2):\n",
    "    gamma = 1.0 / class_1.shape[1]\n",
    "    class_all = np.concatenate((class_1, class_2), axis=0)\n",
    "    class_all_rows = class_all.shape[0]\n",
    "    k_matrix = np.zeros((class_all_rows, class_all_rows))\n",
    "    kernel_func = selectKernelFunction(kernel)\n",
    "    for i in range(class_all_rows):\n",
    "        for j in range(class_all_rows):\n",
    "            k_matrix[i][j] = kernel_func(class_all[i], class_all[j], 20)\n",
    "    return k_matrix\n",
    "#calcuKernelMatrix(1,class_1,class_2)   "
   ]
  },
  {
   "cell_type": "code",
   "execution_count": 229,
   "metadata": {
    "collapsed": false
   },
   "outputs": [],
   "source": [
    "'''1、计算经过高维映射后的类中心\n",
    "   2、返回的是特征空间中的类中心向量'''\n",
    "def calcuClassCenter(class_len, direction_vector, k_matrix):    \n",
    "    center = 1.0*np.dot(k_matrix, direction_vector) / class_len\n",
    "    return center\n",
    "\n",
    "#calcuClassCenter(class_1.shape[0], c[0], k).shape"
   ]
  },
  {
   "cell_type": "code",
   "execution_count": 230,
   "metadata": {
    "collapsed": true
   },
   "outputs": [],
   "source": [
    "def SVD(matrix):\n",
    "    u,s,v = np.linalg.svd(matrix)    \n",
    "    s = np.mat(np.diag(s))\n",
    "    u = np.mat(u)\n",
    "    v = np.mat(v)\n",
    "    reverse = np.dot(np.dot(v.T,s.I),u.T)\n",
    "    return reverse"
   ]
  },
  {
   "cell_type": "code",
   "execution_count": 231,
   "metadata": {
    "collapsed": false
   },
   "outputs": [],
   "source": [
    "'''1、在特征空间中的类内散度矩阵的逆矩阵'''\n",
    "def calcuInternalClassScatter(kernel,class_1, class_2):\n",
    "    class_1_len = class_1.shape[0]\n",
    "    class_2_len = class_2.shape[0]\n",
    "    #生成指示向量\n",
    "    direction_vector_1,direction_vector_2 = createDirectionVector(class_1_len,class_2_len)\n",
    "    #获取核函数矩阵\n",
    "    k_matrix = calcuKernelMatrix(kernel, class_1, class_2)\n",
    "    #计算特征空间中的类中心\n",
    "    center_1 = calcuClassCenter(class_1_len, direction_vector_1, k_matrix)\n",
    "    center_2 = calcuClassCenter(class_2_len, direction_vector_2, k_matrix)\n",
    "    #计算特征空间中的类内散度矩阵\n",
    "    u = class_1_len * np.dot(direction_vector_1,direction_vector_1.T) + class_2_len * np.dot(direction_vector_2,direction_vector_2.T) \n",
    "    ics = np.dot(k_matrix, k_matrix.T) - u\n",
    "    ics_reverse = SVD(ics)\n",
    "    return ics_reverse\n",
    "\n",
    "#calcuInternalClassScatter(1, class_1, class_2)"
   ]
  },
  {
   "cell_type": "code",
   "execution_count": 232,
   "metadata": {
    "collapsed": false
   },
   "outputs": [
    {
     "data": {
      "text/plain": [
       "(17, 1)"
      ]
     },
     "execution_count": 232,
     "metadata": {},
     "output_type": "execute_result"
    }
   ],
   "source": [
    "'''1、计算投影函数的系数\n",
    "   2、返回向量矩阵'''\n",
    "def getCoefficient(kernel,class_1, class_2):\n",
    "    class_1_len = class_1.shape[0]\n",
    "    class_2_len = class_2.shape[0]\n",
    "    #计算两个类中心在特征空间上的差值\n",
    "    direction_vector_1,direction_vector_2 = createDirectionVector(class_1_len,class_2_len)\n",
    "    diff = (direction_vector_1 - direction_vector_2)\n",
    "    #获取特征空间中的类内散度矩阵\n",
    "    ics_reverse = calcuInternalClassScatter(kernel,class_1, class_2)\n",
    "    #计算投影函数的系数\n",
    "    cf = np.dot(ics_reverse,diff)\n",
    "    return cf\n",
    "getCoefficient(1, class_1, class_2).shape"
   ]
  },
  {
   "cell_type": "code",
   "execution_count": 233,
   "metadata": {
    "collapsed": false
   },
   "outputs": [
    {
     "data": {
      "text/plain": [
       "-0.25745993750004459"
      ]
     },
     "execution_count": 233,
     "metadata": {},
     "output_type": "execute_result"
    }
   ],
   "source": [
    "def calcuProjectionValue(kernel, class_1, class_2, one_sample):\n",
    "    samples = np.concatenate((class_1,class_2))\n",
    "    #获得投影系数\n",
    "    cf = getCoefficient(kernel,class_1, class_2)\n",
    "    #计算指定样本点与所有样本的核函数值\n",
    "    kernel_value = np.dot(samples,one_sample.T)\n",
    "    #计算投影值\n",
    "    m_projection = np.array(cf)*np.array(kernel_value)\n",
    "    projection_value = m_projection.T[0].sum()\n",
    "    return projection_value\n",
    "\n",
    "calcuProjectionValue(1, class_1, class_2, np.mat(class_1[0]))"
   ]
  },
  {
   "cell_type": "code",
   "execution_count": 234,
   "metadata": {
    "collapsed": false
   },
   "outputs": [
    {
     "data": {
      "image/png": "[encoded data removed]",
      "text/plain": [
       "<matplotlib.figure.Figure at 0x7fb619b08e50>"
      ]
     },
     "metadata": {},
     "output_type": "display_data"
    }
   ],
   "source": [
    "if 1==1:\n",
    "    points = pd.read_csv('../data/西瓜数据集3.0')\n",
    "    data = np.array(points.ix[:,:2])\n",
    "    labels = np.array(points.ix[:,2])\n",
    "    class_1 = data[labels == 0]\n",
    "    class_2 = data[labels ==1]\n",
    "    projection_1 = []\n",
    "    projection_2 = []\n",
    "    for sample in class_1:\n",
    "        projection_1.append(calcuProjectionValue(2, class_1, class_2, sample))\n",
    "    \n",
    "    for sample in class_2:\n",
    "        projection_2.append(calcuProjectionValue(2, class_1, class_2, sample))\n",
    "    plt.figure()\n",
    "    plt.scatter(projection_1, np.ones(len(projection_1)), c='red')\n",
    "    plt.scatter(projection_2, np.ones(len(projection_2)), c='green')"
   ]
  }
 ],
 "metadata": {
  "anaconda-cloud": {},
  "kernelspec": {
   "display_name": "Python [conda root]",
   "language": "python",
   "name": "conda-root-py"
  },
  "language_info": {
   "codemirror_mode": {
    "name": "ipython",
    "version": 2
   },
   "file_extension": ".py",
   "mimetype": "text/x-python",
   "name": "python",
   "nbconvert_exporter": "python",
   "pygments_lexer": "ipython2",
   "version": "2.7.12"
  }
 },
 "nbformat": 4,
 "nbformat_minor": 1
}
