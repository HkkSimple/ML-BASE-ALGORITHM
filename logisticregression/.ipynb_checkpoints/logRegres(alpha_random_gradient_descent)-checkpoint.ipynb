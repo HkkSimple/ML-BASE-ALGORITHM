{
 "cells": [
  {
   "cell_type": "markdown",
   "metadata": {},
   "source": [
    "# 简介：\n",
    "\n",
    "## 这里在“随机梯度下降”的基础上，又加入了对alpha的优化。(还未实现)"
   ]
  },
  {
   "cell_type": "code",
   "execution_count": 94,
   "metadata": {
    "collapsed": true
   },
   "outputs": [],
   "source": [
    "%matplotlib inline\n",
    "import numpy as np\n",
    "from pandas import DataFrame,Series\n",
    "import pandas as pd\n",
    "from matplotlib import pyplot as plt"
   ]
  },
  {
   "cell_type": "code",
   "execution_count": 95,
   "metadata": {
    "collapsed": true
   },
   "outputs": [],
   "source": [
    "def plotBestFit(X,y,beta):\n",
    "    xcord0 = []\n",
    "    ycord0 = []\n",
    "    xcord1 = []\n",
    "    ycord1 = []\n",
    "    for i in range(len(y)):\n",
    "        if y[i] == 0:\n",
    "            xcord0.append(X[i,0])\n",
    "            ycord0.append(X[i,1])\n",
    "        else:\n",
    "            xcord1.append(X[i,0])\n",
    "            ycord1.append(X[i,1])\n",
    "    fig = plt.figure()\n",
    "    ax = fig.add_subplot(111)\n",
    "    ax.scatter(xcord0,ycord0,s=30,c='red',marker='s')\n",
    "    ax.scatter(xcord1,ycord1,s=30,c='green')\n",
    "    best_line_x = np.array(np.arange(-3,3,.1))\n",
    "    best_line_y = 1.0*(beta[0]*best_line_x+beta[2])/(-beta[1])\n",
    "    ax.plot(best_line_x,best_line_y)\n",
    "    plt.xlabel(('X1'))\n",
    "    plt.ylabel(('X2'))\n",
    "    plt.show()"
   ]
  },
  {
   "cell_type": "code",
   "execution_count": 96,
   "metadata": {
    "collapsed": true
   },
   "outputs": [],
   "source": [
    "def plot_fit_info(beta_trade):\n",
    "    beta_trade = np.array(beta_trade)\n",
    "    row = beta_trade.shape[0]\n",
    "    feature_1 = beta_trade[:,0]\n",
    "    feature_2 = beta_trade[:,1]\n",
    "    feature_3 = beta_trade[:,2]\n",
    "    f,(ax11,ax21,ax31) = plt.subplots(3,1)\n",
    "    ax11.plot(list(range(row)),feature_1)\n",
    "    ax21.plot(list(range(row)),feature_2)\n",
    "    ax31.plot(list(range(row)),feature_3)\n",
    "    ax11.set_ylabel(('X1'))\n",
    "    ax21.set_ylabel(('X2'))\n",
    "    ax31.set_ylabel(('X3'))\n",
    "    ax31.set_xlabel(('iterator times'))\n",
    "    plt.tight_layout()\n",
    "    plt.show()"
   ]
  },
  {
   "cell_type": "code",
   "execution_count": 97,
   "metadata": {
    "collapsed": true
   },
   "outputs": [],
   "source": [
    "def sigmoid(z):\n",
    "    return 1.0/(1+np.exp(-z))"
   ]
  },
  {
   "cell_type": "code",
   "execution_count": 98,
   "metadata": {
    "collapsed": true
   },
   "outputs": [],
   "source": [
    "def first_derivative(x,y,beta):\n",
    "    return x*(y-sigmoid(np.dot(x,beta)))"
   ]
  },
  {
   "cell_type": "code",
   "execution_count": 99,
   "metadata": {
    "collapsed": false
   },
   "outputs": [],
   "source": [
    "def gradient_descent(X,y,beta,alpha,max_cycler):\n",
    "    row = X.shape[0]\n",
    "    #记录beta的整个变化\n",
    "    beta_trade = []\n",
    "    for _ in range(max_cycler):\n",
    "        for i in range(row):   \n",
    "            #随机不重复的挑选样本，进行系数更新（注意比对，使用随机抽样和不使用随机抽样，对拟合的影响）\n",
    "            rand_index = int(np.random.uniform(0,row))\n",
    "            beta = beta + alpha*first_derivative(X[rand_index],y[rand_index],beta)        \n",
    "            beta_trade.append(beta)\n",
    "    return beta_trade"
   ]
  },
  {
   "cell_type": "code",
   "execution_count": 100,
   "metadata": {
    "collapsed": true
   },
   "outputs": [],
   "source": [
    "def get_beta(x,y,beta,alpha):\n",
    "    return beta + alpha*first_derivative(x,y,beta)        "
   ]
  },
  {
   "cell_type": "code",
   "execution_count": 101,
   "metadata": {
    "collapsed": true
   },
   "outputs": [],
   "source": [
    "def format_data(X):\n",
    "    row = X.shape[0]\n",
    "    data_matrix_X = np.concatenate((X,np.ones((row,1))),axis=1)\n",
    "    return data_matrix_X"
   ]
  },
  {
   "cell_type": "code",
   "execution_count": 102,
   "metadata": {
    "collapsed": true
   },
   "outputs": [],
   "source": [
    "def get_alpha_armijo(x,y,beta,alpha):\n",
    "    c = .3\n",
    "    gradient = first_derivative(x,y,beta)\n",
    "    now_beta = beta\n",
    "    next_beta = get_beta(x,y,beta,alpha)\n",
    "    count = 30\n",
    "    while (np.dot(now_beta,now_beta) > np.dot(next_beta,next_beta)):\n",
    "        alpha = alpha * 2\n",
    "        next_beta = get_beta(x,y,beta,alpha)\n",
    "        count -=1\n",
    "        if count ==0:\n",
    "            break\n",
    "        print alpha\n",
    "    count = 50\n",
    "    changed = np.dot(next_beta - now_beta, next_beta - now_beta)\n",
    "    g = np.dot(gradient,gradient)\n",
    "    while (changed > (-c*alpha*g)):\n",
    "        b = gradient*alpha*alpha/(now_beta+gradient*alpha-next_beta)\n",
    "        b = np.dot(b,b)\n",
    "        b = b/2\n",
    "        if b<0:\n",
    "            alpha = alpha/2\n",
    "        else:\n",
    "            alpha = b\n",
    "        next_beta = get_beta(x,y,beta,alpha)\n",
    "        count -= 1\n",
    "        if count ==0:\n",
    "            break\n",
    "        changed = np.dot(next_beta - now_beta, next_beta - now_beta)\n",
    "    return alpha"
   ]
  },
  {
   "cell_type": "code",
   "execution_count": 103,
   "metadata": {
    "collapsed": false
   },
   "outputs": [
    {
     "name": "stdout",
     "output_type": "stream",
     "text": [
      "0.2\n",
      "nan\n"
     ]
    }
   ],
   "source": [
    "points = pd.read_csv('../data/testdata')\n",
    "X = np.array(points.ix[:,:2])\n",
    "y = np.array(points.ix[:,2])\n",
    "X_col = X.shape[1]\n",
    "beta = np.ones((X_col+1,))\n",
    "X = format_data(X)\n",
    "alpha = .1\n",
    "max_cycler = 10\n",
    "# best_alpha = get_alpha_armijo(X[50],y[50],beta,alpha)\n",
    "# print best_alpha\n",
    "beta_trade = gradient_descent(X,y,beta,alpha,max_cycler)\n",
    "plotBestFit(X,y,beta_trade[-1])\n",
    "#最优系数的拟合分析\n",
    "plot_fit_info(beta_trade)"
   ]
  }
 ],
 "metadata": {
  "anaconda-cloud": {},
  "kernelspec": {
   "display_name": "Python [conda root]",
   "language": "python",
   "name": "conda-root-py"
  },
  "language_info": {
   "codemirror_mode": {
    "name": "ipython",
    "version": 2
   },
   "file_extension": ".py",
   "mimetype": "text/x-python",
   "name": "python",
   "nbconvert_exporter": "python",
   "pygments_lexer": "ipython2",
   "version": "2.7.12"
  }
 },
 "nbformat": 4,
 "nbformat_minor": 1
}
