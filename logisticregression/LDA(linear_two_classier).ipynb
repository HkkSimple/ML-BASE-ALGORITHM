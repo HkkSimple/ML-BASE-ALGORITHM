{
 "cells": [
  {
   "cell_type": "code",
   "execution_count": 4,
   "metadata": {
    "collapsed": true
   },
   "outputs": [],
   "source": [
    "%matplotlib inline\n",
    "import numpy as np\n",
    "import pandas as pd\n",
    "from pandas import DataFrame\n",
    "import matplotlib.pyplot as plt"
   ]
  },
  {
   "cell_type": "code",
   "execution_count": 5,
   "metadata": {
    "collapsed": true
   },
   "outputs": [],
   "source": [
    "def within_class_scatter_matrix(class_1, class_2, center_1, center_2):\n",
    "    within_class_1 = class_1.T - center_1\n",
    "    within_class_2 = class_2.T - center_2    \n",
    "    S_w_1 = np.dot(within_class_1, within_class_1.T)\n",
    "    S_w_2 = np.dot(within_class_2, within_class_2.T)\n",
    "    S_w = S_w_1 + S_w_2\n",
    "    return S_w"
   ]
  },
  {
   "cell_type": "code",
   "execution_count": 6,
   "metadata": {
    "collapsed": false
   },
   "outputs": [],
   "source": [
    "#points = pd.read_csv('../data/西瓜数据集3.0')\n",
    "points = pd.read_csv('../data/testdata')\n",
    "data = np.array(points.ix[:,:2])\n",
    "labels = np.array(points.ix[:,2])\n",
    "class_1 = data[labels == 0]\n",
    "class_2 = data[labels ==1]\n",
    "centers = points.groupby('class').apply(np.mean).ix[:,:2].as_matrix()\n",
    "center_1 = centers[0]\n",
    "center_2 = centers[1]\n",
    "center_1.shape = (2,1)\n",
    "center_2.shape = (2,1)\n",
    "S_w = within_class_scatter_matrix(class_1, class_2, center_1, center_2)\n",
    "u,s,v = np.linalg.svd(S_w)    \n",
    "s = np.mat(np.diag(s))\n",
    "u = np.mat(u)\n",
    "v = np.mat(v)\n",
    "S_w_reverse = np.dot(np.dot(v.T,s.I),u.T)\n",
    "w = np.dot(S_w_reverse,(center_1-center_2))\n"
   ]
  },
  {
   "cell_type": "code",
   "execution_count": 7,
   "metadata": {
    "collapsed": false
   },
   "outputs": [
    {
     "data": {
      "text/plain": [
       "<matplotlib.collections.PathCollection at 0x7fa50f81a2d0>"
      ]
     },
     "execution_count": 7,
     "metadata": {},
     "output_type": "execute_result"
    },
    {
     "data": {
      "image/png": "[encoded data removed]",
      "text/plain": [
       "<matplotlib.figure.Figure at 0x7fa50f7bb590>"
      ]
     },
     "metadata": {},
     "output_type": "display_data"
    }
   ],
   "source": [
    "y_1 = []\n",
    "y_2 = []\n",
    "y_1_matrix = np.dot(class_1,w)\n",
    "y_2_matrix = np.dot(class_2,w)\n",
    "map(lambda t:y_1.append(t[0,0]), y_1_matrix)\n",
    "map(lambda t:y_2.append(t[0,0]), y_2_matrix)\n",
    "plt.figure()\n",
    "plt.scatter(y_1,np.ones(len(y_1)),s=30,c='red')\n",
    "plt.scatter(y_2,np.ones(len(y_2)),s=30,c='green')"
   ]
  }
 ],
 "metadata": {
  "anaconda-cloud": {},
  "kernelspec": {
   "display_name": "Python [conda root]",
   "language": "python",
   "name": "conda-root-py"
  },
  "language_info": {
   "codemirror_mode": {
    "name": "ipython",
    "version": 2
   },
   "file_extension": ".py",
   "mimetype": "text/x-python",
   "name": "python",
   "nbconvert_exporter": "python",
   "pygments_lexer": "ipython2",
   "version": "2.7.12"
  }
 },
 "nbformat": 4,
 "nbformat_minor": 1
}
