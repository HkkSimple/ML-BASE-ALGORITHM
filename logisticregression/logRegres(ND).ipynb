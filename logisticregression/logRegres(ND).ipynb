{
 "cells": [
  {
   "cell_type": "code",
   "execution_count": 67,
   "metadata": {
    "collapsed": true
   },
   "outputs": [],
   "source": [
    "import numpy as np"
   ]
  },
  {
   "cell_type": "code",
   "execution_count": 81,
   "metadata": {
    "collapsed": true
   },
   "outputs": [],
   "source": [
    "def first_derivative(X,y,beta):\n",
    "    X_row = X.shape[0]\n",
    "    X_col = X.shape[1]\n",
    "    if X_row != len(y) or X_col != len(beta):\n",
    "        return 'X 与 y 或 X 与 beta 的维度不统一'\n",
    "    else:\n",
    "        f_derivative = np.zeros(X_col)\n",
    "        for i in range(len(y)):\n",
    "            #x应该是横向量，beta应该是列向量\n",
    "            sigmoid = 1.0/(1+np.exp(-np.dot(X[i],beta)))\n",
    "            f_derivative += -(X[i]*(y[i]-sigmoid))\n",
    "        return f_derivative\n",
    "    \n",
    "def second_derivative(X,y,beta):\n",
    "    X_row = X.shape[0]\n",
    "    X_col = X.shape[1]\n",
    "    if X_row != len(y) or X_col != len(beta):\n",
    "        return 'X 与 y 或 X 与 beta 的维度不统一'\n",
    "    else:\n",
    "        s_derivative = np.zeros((X_col,X_col))\n",
    "        for i in range(len(y)):\n",
    "            sigmoid = 1.0/(1+np.exp(-np.dot(X[i],beta)))\n",
    "            s_derivative += np.outer(X[i],X[i])*sigmoid*(1-sigmoid)\n",
    "        return s_derivative\n",
    "    \n",
    "def newton(X,y,beta):\n",
    "    #生成新的训练集[X,1]\n",
    "    row = X.shape[0]\n",
    "    col = X.shape[1] \n",
    "    max_cycles = 10\n",
    "    data_matrix_X = np.concatenate((X,np.ones((row,1))),axis=1)\n",
    "    for _ in range(max_cycles):\n",
    "        f_derivative = first_derivative(data_matrix_X, y, beta)\n",
    "        print 'f_derivative{}'.format(f_derivative)\n",
    "        s_derivative = second_derivative(data_matrix_X, y, beta)\n",
    "        print 's_derivative{}'.format(s_derivative)\n",
    "        opposite_s_derivative = s_derivative**-1\n",
    "        print 'opposite_s_derivative{}'.format(opposite_s_derivative)\n",
    "        beta = beta - np.dot(opposite_s_derivative,f_derivative)\n",
    "        print 'beta{}'.format(beta)\n",
    "    return beta"
   ]
  },
  {
   "cell_type": "code",
   "execution_count": 82,
   "metadata": {
    "collapsed": false
   },
   "outputs": [
    {
     "name": "stdout",
     "output_type": "stream",
     "text": [
      "f_derivative[ 14.64026982  13.2417022 ]\n",
      "s_derivative[[ 13.97577417   2.31184735]\n",
      " [  2.31184735  12.5       ]]\n",
      "opposite_s_derivative[[ 0.07155239  0.43255451]\n",
      " [ 0.43255451  0.08      ]]\n",
      "beta[-6.77530427 -7.39205093]\n",
      "f_derivative[-0.31026445 -4.81301454]\n",
      "s_derivative[[ 1.72624538 -1.53266851]\n",
      " [-1.53266851  1.43269107]]\n",
      "opposite_s_derivative[[ 0.57929192 -0.6524568 ]\n",
      " [-0.6524568   0.69798718]]\n",
      "beta[-9.73585467 -4.23506263]\n",
      "f_derivative[-5.25429931  1.43719951]\n",
      "s_derivative[[ 0.18122774 -0.34850984]\n",
      " [-0.34850984  0.95201081]]\n",
      "opposite_s_derivative[[ 5.51791896 -2.86935943]\n",
      " [-2.86935943  1.05040824]]\n",
      "beta[ 23.38078512 -20.82118215]\n",
      "f_derivative[ 28.90897121   1.1355129 ]\n",
      "s_derivative[[ 0.61519708  0.68427504]\n",
      " [ 0.68427504  0.76540596]]\n",
      "opposite_s_derivative[[ 1.62549537  1.46140066]\n",
      " [ 1.46140066  1.30649622]]\n",
      "beta[-25.27005311 -64.55231516]\n",
      "f_derivative[ 10.01634198 -11.75819146]\n",
      "s_derivative[[ 0.0005111  -0.00023312]\n",
      " [-0.00023312  0.00010633]]\n",
      "opposite_s_derivative[[ 1956.55779683 -4289.58366842]\n",
      " [-4289.58366842  9404.50732065]]\n",
      "beta[ -70060.56808266  153481.38226992]\n",
      "f_derivative[ 17.00174038  37.2417022 ]\n",
      "s_derivative[[ 0.  0.]\n",
      " [ 0.  0.]]\n",
      "opposite_s_derivative[[ inf  inf]\n",
      " [ inf  inf]]\n",
      "beta[-inf -inf]\n",
      "f_derivative[ nan  nan]\n",
      "s_derivative[[ nan  nan]\n",
      " [ nan  nan]]\n",
      "opposite_s_derivative[[ nan  nan]\n",
      " [ nan  nan]]\n",
      "beta[ nan  nan]\n",
      "f_derivative[ nan  nan]\n",
      "s_derivative[[ nan  nan]\n",
      " [ nan  nan]]\n",
      "opposite_s_derivative[[ nan  nan]\n",
      " [ nan  nan]]\n",
      "beta[ nan  nan]\n",
      "f_derivative[ nan  nan]\n",
      "s_derivative[[ nan  nan]\n",
      " [ nan  nan]]\n",
      "opposite_s_derivative[[ nan  nan]\n",
      " [ nan  nan]]\n",
      "beta[ nan  nan]\n",
      "f_derivative[ nan  nan]\n",
      "s_derivative[[ nan  nan]\n",
      " [ nan  nan]]\n",
      "opposite_s_derivative[[ nan  nan]\n",
      " [ nan  nan]]\n",
      "beta[ nan  nan]\n"
     ]
    },
    {
     "name": "stderr",
     "output_type": "stream",
     "text": [
      "/home/hkk/anaconda2/lib/python2.7/site-packages/ipykernel/__main__.py:10: RuntimeWarning: overflow encountered in exp\n",
      "/home/hkk/anaconda2/lib/python2.7/site-packages/ipykernel/__main__.py:22: RuntimeWarning: overflow encountered in exp\n",
      "/home/hkk/anaconda2/lib/python2.7/site-packages/ipykernel/__main__.py:37: RuntimeWarning: divide by zero encountered in reciprocal\n"
     ]
    },
    {
     "data": {
      "text/plain": [
       "array([ nan,  nan])"
      ]
     },
     "execution_count": 82,
     "metadata": {},
     "output_type": "execute_result"
    }
   ],
   "source": [
    "# X = np.array([[1],[1],[3],[4]])\n",
    "# y = np.array([1,3,1,4])\n",
    "points = np.random.normal(size = 100).reshape(50,2)\n",
    "X = points[:,0]\n",
    "X.shape = (50,1)\n",
    "y = points[:,1]\n",
    "X_col = X.shape[1]\n",
    "beta = np.zeros((X_col+1,))\n",
    "newton(X,y,beta)"
   ]
  },
  {
   "cell_type": "code",
   "execution_count": 78,
   "metadata": {
    "collapsed": false
   },
   "outputs": [
    {
     "name": "stdout",
     "output_type": "stream",
     "text": [
      "[1 3]\n",
      "[[1]\n",
      " [3]]\n"
     ]
    }
   ],
   "source": [
    "a = np.array([[1,2,3],[3,4,5]])\n",
    "len(a)\n",
    "b = np.array([2,2,1])\n",
    "np.outer(a[0],a[0])\n",
    "\n",
    "c = a[:,0]\n",
    "print c\n",
    "c.shape = (2,1)\n",
    "print c"
   ]
  }
 ],
 "metadata": {
  "anaconda-cloud": {},
  "kernelspec": {
   "display_name": "Python [conda root]",
   "language": "python",
   "name": "conda-root-py"
  },
  "language_info": {
   "codemirror_mode": {
    "name": "ipython",
    "version": 2
   },
   "file_extension": ".py",
   "mimetype": "text/x-python",
   "name": "python",
   "nbconvert_exporter": "python",
   "pygments_lexer": "ipython2",
   "version": "2.7.12"
  }
 },
 "nbformat": 4,
 "nbformat_minor": 1
}
